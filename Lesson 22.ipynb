{
 "cells": [
  {
   "cell_type": "markdown",
   "metadata": {
    "colab_type": "text",
    "id": "molRlwPZPt78"
   },
   "source": [
    "# 1.0 Comparing Frequency Distributions"
   ]
  },
  {
   "cell_type": "markdown",
   "metadata": {
    "colab_type": "text",
    "id": "s8I4cyo2QAxC"
   },
   "source": [
    "## 1.1 Comparing Frequency Distributions"
   ]
  },
  {
   "cell_type": "markdown",
   "metadata": {
    "colab_type": "text",
    "id": "sFIzYqg_QJdC"
   },
   "source": [
    "In the previous mission, we learned **what graphs we can use to visualize the frequency distribution of any kind of variable**. In this mission, we'll learn about the graphs we can use to **compare** multiple frequency distributions at once.\n",
    "\n",
    "We'll continue to work with the WNBA data set. Below are the first five rows to help you recollect its structure:\n",
    "\n",
    "| _ | Name            | Team | Pos | Height | Weight | BMI       | Birth_Place | Birthdate         | Exp_ordinal       |\n",
    "|---|-----------------|------|-----|--------|--------|-----------|-------------|-------------------|-------------------|\n",
    "| 0 | Aerial Powers   | DAL  | F   | 183    | 71.0   | 21.200991 | US          | January 17, 1994  | Little experience |\n",
    "| 1 | Alana Beard     | LA   | G/F | 185    | 73.0   | 21.329438 | US          | May 14, 1982      | Veteran           |\n",
    "| 2 | Alex Bentley    | CON  | G   | 170    | 69.0   | 23.875433 | US          | October 27, 1990  | Experienced       |\n",
    "| 3 | Alex Montgomery | SAN  | G/F | 185    | 84.0   | 24.543462 | US          | December 11, 1988 | Very experienced  |\n",
    "| 4 | Alexis Jones    | MIN  | G   | 175    | 78.0   | 25.469388 | US          | August 5, 1994    | Rookie            |\n",
    "\n",
    "\n",
    "Notice in the table above that we've kept the **Exp_ordinal** variable we created in the previous mission. To remind you, this variable is measured on an **ordinal scale** and describes the level of experience of a player according to the following labeling convention:\n",
    "\n",
    "\n",
    "| Years in WNBA | Label             |\n",
    "|---------------|-------------------|\n",
    "| 0             | Rookie            |\n",
    "| 1-3           | Little experience |\n",
    "| 4-5           | Experienced       |\n",
    "| 5-10          | Very experienced  |\n",
    "| >10           | Veteran           |\n",
    "\n"
   ]
  },
  {
   "cell_type": "code",
   "execution_count": 1,
   "metadata": {
    "colab": {},
    "colab_type": "code",
    "id": "zoiBp_j4WkjK"
   },
   "outputs": [
    {
     "data": {
      "text/plain": [
       "Little experience    42\n",
       "Very experienced     37\n",
       "Experienced          25\n",
       "rookie               23\n",
       "Veteran              16\n",
       "Name: Exp_ordinal, dtype: int64"
      ]
     },
     "execution_count": 1,
     "metadata": {},
     "output_type": "execute_result"
    }
   ],
   "source": [
    "import pandas as pd\n",
    "\n",
    "# read the dataset\n",
    "wnba = pd.read_csv(\"wnba.csv\")\n",
    "\n",
    "# cleaning the experience column\n",
    "wnba.loc[wnba.Experience == 'R',\"Experience\"] = 0\n",
    "wnba[\"Experience\"] = wnba[\"Experience\"].astype(int)\n",
    "\n",
    "# create exp_ordinal column\n",
    "wnba[\"Exp_ordinal\"] = pd.cut(wnba.Experience,\n",
    "       bins=[-1,0,3,5,10,100],\n",
    "       labels=[\"rookie\",\"Little experience\",\"Experienced\",\n",
    "              \"Very experienced\",\"Veteran\"])\n",
    "\n",
    "# verify the results\n",
    "wnba.Exp_ordinal.value_counts()"
   ]
  },
  {
   "cell_type": "markdown",
   "metadata": {
    "colab_type": "text",
    "id": "GK6qbEZWWjs8"
   },
   "source": [
    "\n",
    "Let's say we're interested in analyzing how the distribution of the **Pos** variable (**player position**) varies with the level of experience. In other words, we want to determine, for instance, what are the positions on the court that rookies play most as, and how do rookies compare to veterans with respect to positions on the field.\n",
    "\n",
    "Here's a series of steps we can take to achieve that:\n",
    "\n",
    "- Segment the players in the data set by level of experience.\n",
    "- For each segment, generate a frequency distribution table for the **Pos** variable.\n",
    "- Analyze the frequency distributions comparatively.\n",
    "\n",
    "In the cell below, we've already done the first step for you and segmented the players in the data set by level of experience. The next two steps are left for you as an exercise.\n",
    "\n",
    "**Exercise**\n",
    "\n",
    "<img width=\"100\" src=\"https://drive.google.com/uc?export=view&id=1E8tR7B9YYUXsU_rddJAyq0FrM0MSelxZ\">\n",
    "\n",
    "- For each segment, generate a frequency distribution table for the **Pos** variable.\n",
    "  - For the **rookie** segment, assign the frequency distribution table to a variable named **rookie_distro**. tip: use df.value_counts() function.\n",
    "  - For the **Little experience** segment, assign the table to **little_xp_distro.**\n",
    "  - For the **Experienced** segment, assign the table to **experienced_distro.**\n",
    "  - For the **Very experienced** segment, assign the table to **very_xp_distro**.\n",
    "  - For the **Veteran** segment, assign the table to **veteran_distro.**\n",
    "- Print all the tables and analyze them comparatively to determine whether there are any clear patterns in the distribution of player position depending on the level of experience."
   ]
  },
  {
   "cell_type": "code",
   "execution_count": 2,
   "metadata": {
    "colab": {},
    "colab_type": "code",
    "id": "6D5-HZRuWYoV"
   },
   "outputs": [],
   "source": [
    "rookies = wnba[wnba['Exp_ordinal'] == 'Rookie']\n",
    "little_xp = wnba[wnba['Exp_ordinal'] == 'Little experience']\n",
    "experienced = wnba[wnba['Exp_ordinal'] == 'Experienced']\n",
    "very_xp = wnba[wnba['Exp_ordinal'] == 'Very experienced']\n",
    "veterans =  wnba[wnba['Exp_ordinal'] == 'Veteran']\n",
    "\n",
    "rookie_distro = rookies['Pos'].value_counts()\n",
    "little_xp_distro = little_xp['Pos'].value_counts()\n",
    "experienced_distro = experienced['Pos'].value_counts()\n",
    "very_xp_distro = very_xp['Pos'].value_counts()\n",
    "veteran_distro = veterans['Pos'].value_counts()"
   ]
  },
  {
   "cell_type": "code",
   "execution_count": 3,
   "metadata": {},
   "outputs": [
    {
     "data": {
      "text/plain": [
       "Series([], Name: Pos, dtype: int64)"
      ]
     },
     "metadata": {},
     "output_type": "display_data"
    },
    {
     "data": {
      "text/plain": [
       "G      14\n",
       "F      13\n",
       "C       8\n",
       "F/C     4\n",
       "G/F     3\n",
       "Name: Pos, dtype: int64"
      ]
     },
     "metadata": {},
     "output_type": "display_data"
    },
    {
     "data": {
      "text/plain": [
       "G      9\n",
       "F      6\n",
       "C      6\n",
       "F/C    2\n",
       "G/F    2\n",
       "Name: Pos, dtype: int64"
      ]
     },
     "metadata": {},
     "output_type": "display_data"
    },
    {
     "data": {
      "text/plain": [
       "G      16\n",
       "C       6\n",
       "F       6\n",
       "G/F     5\n",
       "F/C     4\n",
       "Name: Pos, dtype: int64"
      ]
     },
     "metadata": {},
     "output_type": "display_data"
    },
    {
     "data": {
      "text/plain": [
       "G      7\n",
       "F      4\n",
       "G/F    3\n",
       "C      1\n",
       "F/C    1\n",
       "Name: Pos, dtype: int64"
      ]
     },
     "metadata": {},
     "output_type": "display_data"
    }
   ],
   "source": [
    "display(rookie_distro)\n",
    "display(little_xp_distro)\n",
    "display(experienced_distro)\n",
    "display(very_xp_distro)\n",
    "display(veteran_distro)"
   ]
  },
  {
   "cell_type": "markdown",
   "metadata": {
    "colab_type": "text",
    "id": "2FCO4tS1YHhj"
   },
   "source": [
    "## 1.2 Grouped Bar Plots"
   ]
  },
  {
   "cell_type": "markdown",
   "metadata": {
    "colab_type": "text",
    "id": "FUraFtkBYSnJ"
   },
   "source": [
    "The purpose of the previous exercise was to give us a sense about how cumbersome really is to compare multiple distributions at once using frequency tables. Fortunately, we can make the comparison much quicker and more efficiently using graphs.\n",
    "\n",
    "All the five frequency tables we wanted to compare were for the **Pos** variable, which is measured on a nominal scale. Remember that one kind of graph we can use to visualize the distribution of a nominal variable is a bar plot. A simple solution to our problem is to generate a bar plot for each table, and then group all the bar plots on a single figure.\n",
    "\n",
    "This is where we'd like to arrive:\n",
    "\n",
    "<img width=\"600\" src=\"https://drive.google.com/uc?export=view&id=1xO1mMfvHCMhgglqAI0FrCBE-sE9gt9PZ\">\n",
    "\n",
    "\n",
    "Because we grouped all the bar plots together, the graph above is called a **grouped bar plot**. We can generate a grouped bar plot just like the one above using the [seaborn.countplot()](https://seaborn.pydata.org/generated/seaborn.countplot.html) function from the seaborn module, which you might already be familiar with from our visualization lessons. In the code snippet below, we will:\n",
    "\n",
    "- Import the **seaborn** module with the alias **sns**.\n",
    "- Generate the plot with **sns.countplot()**. We'll use the following parameters for this function:\n",
    "  - **x** — specifies as a string the name of the column we want on the x-axis. We'll place the **Exp_ordinal** column on the x-axis.\n",
    "  - **hue** — specifies as a string the name of the column we want the bar plots generated for. We want to generate the bar plots for the **Pos** column.\n",
    "  - **data** - specifies the name of the variable which stores the data set. We stored the data in a variable named **wnba**."
   ]
  },
  {
   "cell_type": "code",
   "execution_count": 4,
   "metadata": {
    "colab": {},
    "colab_type": "code",
    "id": "4v0P7J-NY3kx"
   },
   "outputs": [
    {
     "data": {
      "text/plain": [
       "<matplotlib.axes._subplots.AxesSubplot at 0x7fe442516400>"
      ]
     },
     "execution_count": 4,
     "metadata": {},
     "output_type": "execute_result"
    },
    {
     "data": {
      "image/png": "[encoded data removed]",
      "text/plain": [
       "<Figure size 432x288 with 1 Axes>"
      ]
     },
     "metadata": {
      "needs_background": "light"
     },
     "output_type": "display_data"
    }
   ],
   "source": [
    "%matplotlib inline\n",
    "import seaborn as sns\n",
    "sns.countplot(x = 'Exp_ordinal', hue = 'Pos', data = wnba)"
   ]
  },
  {
   "cell_type": "markdown",
   "metadata": {
    "colab_type": "text",
    "id": "R8LC7UkfjF6W"
   },
   "source": [
    "Comparing the **five distributions** is now easier, and we can make a couple of observations:\n",
    "\n",
    "- There's only one **rookie** playing on a combined position **(F/C)**. This is significantly less compared to more experienced players, which suggests that combined positions (**F/C** and **G/F**) may require more complex skills on the field that rookies rarely have.\n",
    "- Rookies are the only category where we don't find players on all positions. We can see there are no rookies who play on a G/F position.\n",
    "- Guards predominate for every level of experience. This probably means that most players in a basketball team are guards. It's worth examining the distributions of a couple of teams to find whether this is true. If it's true, it might be interesting to find out why teams need so many guards.\n",
    "\n",
    "\n",
    "**Exercise**\n",
    "\n",
    "<img width=\"100\" src=\"https://drive.google.com/uc?export=view&id=1E8tR7B9YYUXsU_rddJAyq0FrM0MSelxZ\">\n",
    "\n",
    "\n",
    "- Usng **sns.countplot()**, generate a grouped bar plot similar to the one above.\n",
    "\n",
    "  - Place the **Exp_ordinal** variable on the x-axis.\n",
    "  - Generate the bar plots for the **Pos** variable. The data set is stored in **wnba** variable.\n",
    "  - Using the **order** parameter of **sns.countplot()**, order the values on the x-axis in **descending** order. The **order** parameter takes in a list of strings, so you should use **order = ['Veteran', 'Very experienced', ..........]**.\n",
    "  - Using the **hue_order** parameter, order the bars of each bar plot in ascending alphabetic order. **hue_order** takes in a list of strings, so you can use **hue_order = ['C', 'F', ......].**"
   ]
  },
  {
   "cell_type": "code",
   "execution_count": 5,
   "metadata": {
    "colab": {},
    "colab_type": "code",
    "id": "S_fKRx8HjzNs"
   },
   "outputs": [
    {
     "data": {
      "text/plain": [
       "<matplotlib.axes._subplots.AxesSubplot at 0x7fe44042e2e8>"
      ]
     },
     "execution_count": 5,
     "metadata": {},
     "output_type": "execute_result"
    },
    {
     "data": {
      "image/png": "[encoded data removed]",
      "text/plain": [
       "<Figure size 432x288 with 1 Axes>"
      ]
     },
     "metadata": {
      "needs_background": "light"
     },
     "output_type": "display_data"
    }
   ],
   "source": [
    "%matplotlib inline\n",
    "sns.countplot(x = 'Exp_ordinal', hue = 'Pos', data = wnba,\n",
    "              order=['Veteran', 'Very Experienced', 'Experienced', 'Little Experienced', 'rookie'],\n",
    "              hue_order=['C', 'F', 'F/C', 'G', 'G/F'])"
   ]
  },
  {
   "cell_type": "markdown",
   "metadata": {
    "colab_type": "text",
    "id": "4WXoWBidk3e9"
   },
   "source": [
    "## 1.3 Challenge: Do Older Players Play Less?\n"
   ]
  },
  {
   "cell_type": "markdown",
   "metadata": {
    "colab_type": "text",
    "id": "YoFzcAMEpHe3"
   },
   "source": [
    "When players get past a certain age, they become less and less physically fit as they get older. Intuitively, the fitness level of a player should directly affect how much she plays in a season. On average, a WNBA player played approximately 497 minutes in the 2016-2017 season:\n"
   ]
  },
  {
   "cell_type": "code",
   "execution_count": 6,
   "metadata": {
    "colab": {},
    "colab_type": "code",
    "id": "o8V9Ucd3pQMO"
   },
   "outputs": [
    {
     "data": {
      "text/plain": [
       "496.97202797202794"
      ]
     },
     "execution_count": 6,
     "metadata": {},
     "output_type": "execute_result"
    }
   ],
   "source": [
    "wnba['MIN'].mean()"
   ]
  },
  {
   "cell_type": "markdown",
   "metadata": {
    "colab_type": "text",
    "id": "Glt-LLCJpSLi"
   },
   "source": [
    "Let's hypothesize that older players generally play less than this average of 497 minutes, while younger players generally play more. As a benchmark to distinguish between younger and older players, we'll take the mean age of players in our sample, which is approximately 27:"
   ]
  },
  {
   "cell_type": "code",
   "execution_count": 7,
   "metadata": {
    "colab": {},
    "colab_type": "code",
    "id": "Rl37jGIapau8"
   },
   "outputs": [
    {
     "data": {
      "text/plain": [
       "27.076923076923077"
      ]
     },
     "execution_count": 7,
     "metadata": {},
     "output_type": "execute_result"
    }
   ],
   "source": [
    "wnba['Age'].mean()"
   ]
  },
  {
   "cell_type": "markdown",
   "metadata": {
    "colab_type": "text",
    "id": "37-K5Vrepghb"
   },
   "source": [
    "To test our hypothesis, we can generate a grouped bar plot to examine the frequency distribution of younger and older players that played under the average or as much as the average or above. Our hypothesis predicts that we should see a grouped bar plot that looks similar to this:\n",
    "\n",
    "<img width=\"600\" src=\"https://drive.google.com/uc?export=view&id=11S_m6RQAGChN_iOy7mS1qoEjCOWSEBDV\">\n",
    "\n",
    "\n",
    "To generate a graph like the one above, we'll first need to create two new variables:\n",
    "\n",
    "- An ordinal variable which labels each player as \"young\" or \"old\". If the player is 27 or over, we'll label her \"old\", otherwise the label is \"young\".\n",
    "- An ordinal variable which describes whether the minutes played is below or above average (or equal to the average). If a player played 497 minutes or more, we'll assign her the label \"average or above\", otherwise we'll assign \"below average\".\n",
    "\n",
    "In the code below, we'll use **lambda** functions to describe quickly the labeling logic above and **Series.apply()** to apply the **lambda** functions on the **Age** and **MIN** columns. We'll name the two resulting columns **age_mean_relative** and **min_mean_relative**.\n"
   ]
  },
  {
   "cell_type": "code",
   "execution_count": 8,
   "metadata": {
    "colab": {},
    "colab_type": "code",
    "id": "Jf0Bew4Pp7EU"
   },
   "outputs": [
    {
     "data": {
      "text/html": [
       "<div>\n",
       "<style scoped>\n",
       "    .dataframe tbody tr th:only-of-type {\n",
       "        vertical-align: middle;\n",
       "    }\n",
       "\n",
       "    .dataframe tbody tr th {\n",
       "        vertical-align: top;\n",
       "    }\n",
       "\n",
       "    .dataframe thead th {\n",
       "        text-align: right;\n",
       "    }\n",
       "</style>\n",
       "<table border=\"1\" class=\"dataframe\">\n",
       "  <thead>\n",
       "    <tr style=\"text-align: right;\">\n",
       "      <th></th>\n",
       "      <th>Name</th>\n",
       "      <th>Age</th>\n",
       "      <th>age_mean_relative</th>\n",
       "      <th>MIN</th>\n",
       "      <th>min_mean_relative</th>\n",
       "    </tr>\n",
       "  </thead>\n",
       "  <tbody>\n",
       "    <tr>\n",
       "      <th>0</th>\n",
       "      <td>Aerial Powers</td>\n",
       "      <td>23</td>\n",
       "      <td>young</td>\n",
       "      <td>173</td>\n",
       "      <td>below average</td>\n",
       "    </tr>\n",
       "    <tr>\n",
       "      <th>1</th>\n",
       "      <td>Alana Beard</td>\n",
       "      <td>35</td>\n",
       "      <td>old</td>\n",
       "      <td>947</td>\n",
       "      <td>average or above</td>\n",
       "    </tr>\n",
       "    <tr>\n",
       "      <th>2</th>\n",
       "      <td>Alex Bentley</td>\n",
       "      <td>26</td>\n",
       "      <td>young</td>\n",
       "      <td>617</td>\n",
       "      <td>average or above</td>\n",
       "    </tr>\n",
       "    <tr>\n",
       "      <th>3</th>\n",
       "      <td>Alex Montgomery</td>\n",
       "      <td>28</td>\n",
       "      <td>old</td>\n",
       "      <td>721</td>\n",
       "      <td>average or above</td>\n",
       "    </tr>\n",
       "    <tr>\n",
       "      <th>4</th>\n",
       "      <td>Alexis Jones</td>\n",
       "      <td>23</td>\n",
       "      <td>young</td>\n",
       "      <td>137</td>\n",
       "      <td>below average</td>\n",
       "    </tr>\n",
       "  </tbody>\n",
       "</table>\n",
       "</div>"
      ],
      "text/plain": [
       "              Name  Age age_mean_relative  MIN min_mean_relative\n",
       "0    Aerial Powers   23             young  173     below average\n",
       "1      Alana Beard   35               old  947  average or above\n",
       "2     Alex Bentley   26             young  617  average or above\n",
       "3  Alex Montgomery   28               old  721  average or above\n",
       "4     Alexis Jones   23             young  137     below average"
      ]
     },
     "execution_count": 8,
     "metadata": {},
     "output_type": "execute_result"
    }
   ],
   "source": [
    "wnba['age_mean_relative'] = wnba['Age'].apply(lambda x: 'old' if x >= 27 else 'young')\n",
    "wnba['min_mean_relative'] = wnba['MIN'].apply(lambda x: 'average or above' if x >= 497 else\n",
    "                                              'below average')\n",
    "cols = [\"Name\",\"Age\",\"age_mean_relative\",\"MIN\",\"min_mean_relative\"]\n",
    "wnba[cols].head()"
   ]
  },
  {
   "cell_type": "markdown",
   "metadata": {
    "colab_type": "text",
    "id": "ifhDhs76rp_k"
   },
   "source": [
    "**Exercise**\n",
    "\n",
    "<img width=\"100\" src=\"https://drive.google.com/uc?export=view&id=1E8tR7B9YYUXsU_rddJAyq0FrM0MSelxZ\">\n",
    "\n",
    "\n",
    "- Generate a grouped bar plot to confirm or reject our hypothesis. Using **sns.countplot()**:\n",
    "  - Place the **age_mean_relative** variable on the x-axis. The **age_mean_relative** and **min_mean_relative** are already defined.\n",
    "  - Generate the frequency distributions for the **min_mean_relative variable.**\n",
    "- Analyze the graph and determine whether the data confirms or rejects our hypothesis. If it's a confirmation assign the string **'confirmation'** to a variable named **result**. If it's a rejection, assign the string **'rejection'** to the variable **result.**"
   ]
  },
  {
   "cell_type": "code",
   "execution_count": 9,
   "metadata": {
    "colab": {},
    "colab_type": "code",
    "id": "gesr-86PvZxu"
   },
   "outputs": [
    {
     "data": {
      "text/plain": [
       "<matplotlib.axes._subplots.AxesSubplot at 0x7fe44035c048>"
      ]
     },
     "execution_count": 9,
     "metadata": {},
     "output_type": "execute_result"
    },
    {
     "data": {
      "image/png": "[encoded data removed]",
      "text/plain": [
       "<Figure size 432x288 with 1 Axes>"
      ]
     },
     "metadata": {
      "needs_background": "light"
     },
     "output_type": "display_data"
    }
   ],
   "source": [
    "%matplotlib inline\n",
    "sns.countplot(x='age_mean_relative', hue='min_mean_relative', data=wnba)"
   ]
  },
  {
   "cell_type": "code",
   "execution_count": 10,
   "metadata": {},
   "outputs": [
    {
     "data": {
      "text/plain": [
       "average or above    73\n",
       "below average       70\n",
       "Name: min_mean_relative, dtype: int64"
      ]
     },
     "execution_count": 10,
     "metadata": {},
     "output_type": "execute_result"
    }
   ],
   "source": [
    "wnba['min_mean_relative'].value_counts()"
   ]
  },
  {
   "cell_type": "code",
   "execution_count": 11,
   "metadata": {},
   "outputs": [],
   "source": [
    "result = 'rejection'"
   ]
  },
  {
   "cell_type": "markdown",
   "metadata": {
    "colab_type": "text",
    "id": "zQNpeRmKvfa7"
   },
   "source": [
    "## 1.4 Comparing Histograms"
   ]
  },
  {
   "cell_type": "markdown",
   "metadata": {
    "colab_type": "text",
    "id": "3wbt6EU4wBm8"
   },
   "source": [
    "Contrary to what our hypothesis predicted, the grouped bar plot we built showed that among old players the \"average or above\" category is the most numerous. Among young players we saw an opposite pattern: there are more players who played below the average number of minutes.\n",
    "\n",
    "A shortcoming of our analysis so far is that the **min_mean_relative** variable doesn't show much granularity. We can see that more **old players** belong to the **\"average or above\"** category than to **\"below average\"**, but we can't tell, for instance, whether **old players** generally play much more than the average. For all we know, they could have all played exactly 497 minutes (which is the average).\n",
    "\n",
    "The **min_mean_relative** variable is ordinal, and it was derived from the **MIN** variable, which is measured on a ratio scale. The information provided by the **MIN** variable is much more granular, and we can plot the distribution of this variable instead. Because the **MIN** variable is measured on a ratio scale, we'll need to use histograms instead of bar plots.\n",
    "\n",
    "The easiest way to **compare two histograms** is to superimpose one on top of the other. We can do that by using the pandas visualization methods we learned in the previous mission:"
   ]
  },
  {
   "cell_type": "code",
   "execution_count": 12,
   "metadata": {
    "colab": {},
    "colab_type": "code",
    "id": "TMnltjWRw7qn"
   },
   "outputs": [
    {
     "data": {
      "text/plain": [
       "<matplotlib.axes._subplots.AxesSubplot at 0x7fe4402de4a8>"
      ]
     },
     "execution_count": 12,
     "metadata": {},
     "output_type": "execute_result"
    },
    {
     "data": {
      "image/png": "[encoded data removed]",
      "text/plain": [
       "<Figure size 432x288 with 1 Axes>"
      ]
     },
     "metadata": {
      "needs_background": "light"
     },
     "output_type": "display_data"
    }
   ],
   "source": [
    "wnba[wnba.Age >= 27]['MIN'].plot.hist(label = 'Old', legend = True)\n",
    "wnba[wnba.Age < 27]['MIN'].plot.hist(label = 'Young', legend = True)"
   ]
  },
  {
   "cell_type": "markdown",
   "metadata": {
    "colab_type": "text",
    "id": "QnQWaVZGxB1U"
   },
   "source": [
    "We can now see that most of the **old players** that belong to the **\"average or above\"** category play significantly more than average. The main downside of the visualization above is that the histogram for **young players** covers a large part of the other histogram. We can fix this easily by plotting only the shape of the histograms. We can do this using the **histtype** parameter and choose the **'step'** type:\n",
    "\n"
   ]
  },
  {
   "cell_type": "code",
   "execution_count": 13,
   "metadata": {
    "colab": {},
    "colab_type": "code",
    "id": "tbee7KFnxnHE"
   },
   "outputs": [
    {
     "data": {
      "text/plain": [
       "<matplotlib.axes._subplots.AxesSubplot at 0x7fe44024dc50>"
      ]
     },
     "execution_count": 13,
     "metadata": {},
     "output_type": "execute_result"
    },
    {
     "data": {
      "image/png": "[encoded data removed]",
      "text/plain": [
       "<Figure size 432x288 with 1 Axes>"
      ]
     },
     "metadata": {},
     "output_type": "display_data"
    }
   ],
   "source": [
    "sns.set_style(\"white\")\n",
    "wnba[wnba.Age >= 27]['MIN'].plot.hist(histtype = 'step', label = 'Old', legend = True,color=\"red\")\n",
    "wnba[wnba.Age < 27]['MIN'].plot.hist(histtype = 'step', label = 'Young', legend = True,color=\"blue\")"
   ]
  },
  {
   "cell_type": "markdown",
   "metadata": {
    "colab_type": "text",
    "id": "1co9KIQKxp8Y"
   },
   "source": [
    "**Exercise**\n",
    "\n",
    "<img width=\"100\" src=\"https://drive.google.com/uc?export=view&id=1E8tR7B9YYUXsU_rddJAyq0FrM0MSelxZ\">\n",
    "\n",
    "\n",
    "- Looking on our graph above, it's not easy to visualize where the average number of minutes is. Using the [plt.axvline()](https://matplotlib.org/api/_as_gen/matplotlib.pyplot.axvline.html) function, add a vertical line to demarcate the average point:\n",
    "  - The vertical line should be at point 497 on the x-axis.\n",
    "  - Use the label parameter of **plt.axvline()** to label it **'Average'**. Display the label by running **plt.legend()**."
   ]
  },
  {
   "cell_type": "code",
   "execution_count": 14,
   "metadata": {
    "colab": {},
    "colab_type": "code",
    "id": "9UD1sMoGyZ-v"
   },
   "outputs": [
    {
     "data": {
      "text/plain": [
       "<matplotlib.legend.Legend at 0x7fe4401a4cf8>"
      ]
     },
     "execution_count": 14,
     "metadata": {},
     "output_type": "execute_result"
    },
    {
     "data": {
      "image/png": "[encoded data removed]",
      "text/plain": [
       "<Figure size 432x288 with 1 Axes>"
      ]
     },
     "metadata": {},
     "output_type": "display_data"
    }
   ],
   "source": [
    "import matplotlib.pyplot as plt\n",
    "sns.set_style(\"white\")\n",
    "wnba[wnba.Age >= 27]['MIN'].plot.hist(histtype = 'step', label = 'Old', legend = True,color=\"red\")\n",
    "wnba[wnba.Age < 27]['MIN'].plot.hist(histtype = 'step', label = 'Young', legend = True,color=\"blue\")\n",
    "plt.axvline(x=497, label='Average')\n",
    "plt.legend()"
   ]
  },
  {
   "cell_type": "markdown",
   "metadata": {
    "colab_type": "text",
    "id": "qkGRfrn5yhgZ"
   },
   "source": [
    "## 1.5 Kernel Density Estimate Plots\n"
   ]
  },
  {
   "cell_type": "markdown",
   "metadata": {
    "colab_type": "text",
    "id": "-549n8Jc01yJ"
   },
   "source": [
    "The step-type histograms we built made it possible to see clearly both distributions. The graph looked a bit overcrowded though, and the legend was not ideally positioned.\n",
    "\n",
    "<img width=\"500\" src=\"https://drive.google.com/uc?export=view&id=1Oogmu0kyhTgtK-N1zqsdzYGisTM2D6bE\">\n",
    "\n",
    "If we added more histograms to the graph above, it would become highly unreadable, and it'd be difficult to see any clear patterns. One solution to this problem is to smooth out the shape of the histograms to make them look less dense on the graph. This is how a single histogram would look smoothed out:\n",
    "\n",
    "\n",
    "<img width=\"500\" src=\"https://drive.google.com/uc?export=view&id=1us30ptyKArBL7GvemVRzYvBlGOD3KuMR\">\n",
    "\n",
    "We can smooth out our two histograms above for old and young players using the [Series.plot.kde()](https://pandas.pydata.org/pandas-docs/stable/generated/pandas.Series.plot.kde.html) function:\n"
   ]
  },
  {
   "cell_type": "code",
   "execution_count": 15,
   "metadata": {
    "colab": {},
    "colab_type": "code",
    "id": "GsVemyup09BU"
   },
   "outputs": [
    {
     "data": {
      "text/plain": [
       "<matplotlib.axes._subplots.AxesSubplot at 0x7fe4401516d8>"
      ]
     },
     "execution_count": 15,
     "metadata": {},
     "output_type": "execute_result"
    },
    {
     "data": {
      "image/png": "[encoded data removed]",
      "text/plain": [
       "<Figure size 432x288 with 1 Axes>"
      ]
     },
     "metadata": {},
     "output_type": "display_data"
    }
   ],
   "source": [
    "wnba[wnba.Age >= 27]['MIN'].plot.kde(label = 'Old', legend = True)\n",
    "wnba[wnba.Age < 27]['MIN'].plot.kde(label = 'Young', legend = True)"
   ]
  },
  {
   "cell_type": "markdown",
   "metadata": {
    "colab_type": "text",
    "id": "mv7RT9Gc1w04"
   },
   "source": [
    "Each of the smoothed histograms above is called a **kernel density estimate** plot or, shorter, **kernel density plot**. Unlike histograms, **kernel density** plots display densities on the y-axis instead of frequencies. The density values are actually probability values — which we'll be able to understand more about after the probability courses. All you need to know for now is that we can use kernel density plots to get a much clear picture about the shape of a distribution.\n",
    "\n",
    "\n",
    "**Exercise**\n",
    "\n",
    "<img width=\"100\" src=\"https://drive.google.com/uc?export=view&id=1E8tR7B9YYUXsU_rddJAyq0FrM0MSelxZ\">\n",
    "\n",
    "\n",
    "- Reproduce the kernel density plots above, and add a vertical line to demarcate the average point.\n",
    "  - The vertical line should be at point 497 on the x-axis.\n",
    "  - Label the vertical line **'Average'** and make sure the label is displayed in the legend.\n",
    "- Can we still see that most of the old players that belong to the **\"average or above\"** category play significantly more than average? If so, is the pattern more obvious (faster to observe) than in the case of the step-type histograms?"
   ]
  },
  {
   "cell_type": "code",
   "execution_count": 16,
   "metadata": {
    "colab": {},
    "colab_type": "code",
    "id": "4aeD2UhB2HXZ"
   },
   "outputs": [
    {
     "data": {
      "text/plain": [
       "<matplotlib.legend.Legend at 0x7fe43e1051d0>"
      ]
     },
     "execution_count": 16,
     "metadata": {},
     "output_type": "execute_result"
    },
    {
     "data": {
      "image/png": "[encoded data removed]",
      "text/plain": [
       "<Figure size 432x288 with 1 Axes>"
      ]
     },
     "metadata": {},
     "output_type": "display_data"
    }
   ],
   "source": [
    "wnba[wnba.Age >= 27]['MIN'].plot.kde(label = 'Old', legend = True)\n",
    "wnba[wnba.Age < 27]['MIN'].plot.kde(label = 'Young', legend = True)\n",
    "plt.axvline(x=497, label='Average')\n",
    "plt.legend()"
   ]
  },
  {
   "cell_type": "markdown",
   "metadata": {
    "colab_type": "text",
    "id": "5aQBIQSN2mWU"
   },
   "source": [
    "## 1.6 Drawbacks of Kernel Density Plots"
   ]
  },
  {
   "cell_type": "markdown",
   "metadata": {
    "colab_type": "text",
    "id": "mw-p3Uh1293i"
   },
   "source": [
    "As data scientists, we'll often need to compare more than two distributions. In fact, previously in this mission we compared five distributions on a grouped bar plot:\n",
    "\n",
    "\n",
    "<img width=\"400\" src=\"https://drive.google.com/uc?export=view&id=1nSTEDf8EAAE8fQSqxs5dwrlqoU7PF9Gx\">\n",
    "\n",
    "Grouped bar plots are ideal for variables measured on nominal and ordinal scales. For variables measured on a ratio or interval scale, we learned that kernel density plots are a good solution when we have many distributions to compare. However, kernel density plots tend to become unreadable as we reach five distributions or more.\n",
    "\n",
    "Let's say we're interested in analyzing the distribution of player height as a function of player position. In other words, we want to figure out, for instance, whether centers are generally taller than forwards, whether forwards are generally shorter than guards, and so on. In the code below, we'll segment the data set by player position, and for each segment we'll generate a kernel density plot for the distribution of the **Height** variable:"
   ]
  },
  {
   "cell_type": "code",
   "execution_count": 17,
   "metadata": {
    "colab": {},
    "colab_type": "code",
    "id": "-C6bbEnh3EDZ"
   },
   "outputs": [
    {
     "data": {
      "text/plain": [
       "<matplotlib.axes._subplots.AxesSubplot at 0x7fe43e0e4940>"
      ]
     },
     "execution_count": 17,
     "metadata": {},
     "output_type": "execute_result"
    },
    {
     "data": {
      "image/png": "[encoded data removed]",
      "text/plain": [
       "<Figure size 432x288 with 1 Axes>"
      ]
     },
     "metadata": {},
     "output_type": "display_data"
    }
   ],
   "source": [
    "wnba[wnba.Pos == 'F']['Height'].plot.kde(label = 'F', legend = True)\n",
    "wnba[wnba.Pos == 'C']['Height'].plot.kde(label = 'C', legend = True)\n",
    "wnba[wnba.Pos == 'G']['Height'].plot.kde(label = 'G', legend = True)\n",
    "wnba[wnba.Pos == 'G/F']['Height'].plot.kde(label = 'G/F', legend = True)\n",
    "wnba[wnba.Pos == 'F/C']['Height'].plot.kde(label = 'F/C', legend = True)"
   ]
  },
  {
   "cell_type": "markdown",
   "metadata": {
    "colab_type": "text",
    "id": "fdeh9aOX3uqM"
   },
   "source": [
    "If we look very closely, we can see a couple of clear patterns: the shortest players are generally guards, the tallest players are generally centers, mid-height players are generally forwards or play in a combined position, etc.\n",
    "\n",
    "Having to look very closely to a graph to identify obvious patterns is far from ideal. If there's any pattern, we want to see it immediately. To overcome this problem, we can use other kinds of graphs, which present the same information in a more readable way. For the rest of this mission, we'll explore two such alternatives.\n"
   ]
  },
  {
   "cell_type": "markdown",
   "metadata": {
    "colab_type": "text",
    "id": "5d4hHHgb4Qnm"
   },
   "source": [
    "## 1.7 Strip Plots"
   ]
  },
  {
   "cell_type": "markdown",
   "metadata": {
    "colab_type": "text",
    "id": "YJWvOLd34Uom"
   },
   "source": [
    "This is one alternative we can use to visualize the distribution of **heights** as a function of **player** position:\n",
    "\n",
    "\n",
    "<img width=\"400\" src=\"https://drive.google.com/uc?export=view&id=1aQYZGHJg1IDb0C5dUxaSE1coWb3ZI6Dp\">\n",
    "\n",
    "\n",
    "The **Pos** variable is represented on the x-axis, while **Height** is on the y-axis. Each of the five vertical lines made of distinctly colored bullets represents a distribution. These are the logical steps we'd take to build a plot like the one above:\n",
    "\n",
    "- Segment the data set by player position.\n",
    "- For every segment:\n",
    "    - List all the values in the **Height** variable.\n",
    "    - For every value in that list, draw a bullet point on a graph. The x-coordinate of the bullet point is given by the player position, and the y-coordinate by the player's height.\n",
    "    \n",
    "    \n",
    "<img width=\"500\" src=\"https://drive.google.com/uc?export=view&id=1Cp_Pd3uSY-9nE7mPw9oGz788ZPsrMUpJ\">\n",
    "\n",
    "\n",
    "Because we segment by player position, for every segment the player position values will be identical for every player while their heights will vary more or less. Because of the segmentation, the player position is also guaranteed to be different from segment to segment. After drawing all the bullet points for all the segments, we'll inevitably end up with five narrow vertical strips, one above each unique value on the x-axis. Because of this, each of the five plots is called a **strip plot**.\n",
    "\n",
    "To generate the first graph above with five strip plots, we can use the [sns.stripplot()](https://seaborn.pydata.org/generated/seaborn.stripplot.html?highlight=stripplot#seaborn.stripplot) function from the seaborn module. We place the **Pos** variable on the x-axis and **Height** on the y-axis:\n",
    "\n",
    "\n",
    "\n"
   ]
  },
  {
   "cell_type": "code",
   "execution_count": 18,
   "metadata": {
    "colab": {},
    "colab_type": "code",
    "id": "vcVqYdrz4YQ1"
   },
   "outputs": [
    {
     "data": {
      "text/plain": [
       "<matplotlib.axes._subplots.AxesSubplot at 0x7fe43e05bfd0>"
      ]
     },
     "execution_count": 18,
     "metadata": {},
     "output_type": "execute_result"
    },
    {
     "data": {
      "image/png": "[encoded data removed]",
      "text/plain": [
       "<Figure size 432x288 with 1 Axes>"
      ]
     },
     "metadata": {},
     "output_type": "display_data"
    }
   ],
   "source": [
    "sns.stripplot(x = 'Pos', y = 'Height', data = wnba)"
   ]
  },
  {
   "cell_type": "markdown",
   "metadata": {
    "colab_type": "text",
    "id": "BPum6AHx5yZ4"
   },
   "source": [
    "Patterns are now immediately visible. We can see on the graph that the **shortest players are guards** — in fact, all players under 180 cm are guards. The **tallest players are centers** — this is the only category with players above 2 meters. Among combined positions, we can see that **F/C has slightly taller representatives** — most likely because it requires center qualities (and we've seen that the tallest players are generally centers).\n",
    "\n",
    "A **big downside** of strip plots is that the bullet **points overlap**. We can **fix** this by adding a bit of **jitter** to each distribution. We can do this by setting the jitter parameter to **True:**"
   ]
  },
  {
   "cell_type": "code",
   "execution_count": 19,
   "metadata": {
    "colab": {},
    "colab_type": "code",
    "id": "S97zw2FS6R44"
   },
   "outputs": [
    {
     "data": {
      "text/plain": [
       "<matplotlib.axes._subplots.AxesSubplot at 0x7fe43dffe5f8>"
      ]
     },
     "execution_count": 19,
     "metadata": {},
     "output_type": "execute_result"
    },
    {
     "data": {
      "image/png": "[encoded data removed]",
      "text/plain": [
       "<Figure size 432x288 with 1 Axes>"
      ]
     },
     "metadata": {},
     "output_type": "display_data"
    }
   ],
   "source": [
    "sns.stripplot(x = 'Pos', y = 'Height', data = wnba, jitter = True)"
   ]
  },
  {
   "cell_type": "markdown",
   "metadata": {
    "colab_type": "text",
    "id": "jRG4rpvz6WKo"
   },
   "source": [
    "On a side note, you might have noticed that strip plots are similar to the scatter plots we learned about in the visualization courses. **In fact, strip plots are actually scatter plots.** When one of the variables is nominal or ordinal, a scatter plot will generally take the form of a series of narrow strips (the number of narrow strips will be the same as the number of unique values in the nominal or ordinal variable).\n",
    "\n",
    "**Exercise**\n",
    "\n",
    "<img width=\"100\" src=\"https://drive.google.com/uc?export=view&id=1E8tR7B9YYUXsU_rddJAyq0FrM0MSelxZ\">\n",
    "\n",
    "\n",
    "- Using strip plots, examine the distribution of player **weight** (not height) as a function of player **position**. The graph should have the following properties:\n",
    "  - The **Pos** variable in on the x-axis and the **Weight** variable on the y-axis.\n",
    "  - Each **strip** plot has **jitter** added to it. The amount of jitter to apply is the one specific to **jitter = True.**\n",
    "- Do you see any similarity with the distributions of the **Height** variable? If so, how could this be explained?"
   ]
  },
  {
   "cell_type": "code",
   "execution_count": 20,
   "metadata": {
    "colab": {},
    "colab_type": "code",
    "id": "Ai9Nv3Um6p2a"
   },
   "outputs": [
    {
     "data": {
      "text/plain": [
       "<matplotlib.axes._subplots.AxesSubplot at 0x7fe43dfb7160>"
      ]
     },
     "execution_count": 20,
     "metadata": {},
     "output_type": "execute_result"
    },
    {
     "data": {
      "image/png": "[encoded data removed]",
      "text/plain": [
       "<Figure size 432x288 with 1 Axes>"
      ]
     },
     "metadata": {},
     "output_type": "display_data"
    }
   ],
   "source": [
    "sns.stripplot(x = 'Pos', y = 'Weight', data = wnba, jitter = True)"
   ]
  },
  {
   "cell_type": "markdown",
   "metadata": {},
   "source": [
    "**Do you see any similarity with the distributions of the Height variable? If so, how could this be explained?**\n",
    "Possivelmente o Índice de Massa Corpórea de cada jogadora está dentro de uma mesma faixa, ou de uma mesma média"
   ]
  },
  {
   "cell_type": "markdown",
   "metadata": {
    "colab_type": "text",
    "id": "_-16bb-77Omv"
   },
   "source": [
    "## 1.8 Box plots"
   ]
  },
  {
   "cell_type": "markdown",
   "metadata": {
    "colab_type": "text",
    "id": "tRpQfNku8RP4"
   },
   "source": [
    "Besides strip plots, there's another kind of graph we can use to display many distributions at once and make sure everything is still readable. Below, we use this kind of graph to plot again the distribution of player height as a function of player position:\n",
    "\n",
    "\n",
    "<img width=\"400\" src=\"https://drive.google.com/uc?export=view&id=1YM9kJ-0f8eMvYEvI1C11TpvwQlqSuyRa\">\n",
    "\n",
    "Each individual plot above shows a distribution. Let's isolate the height distribution of guards and understand it by comparing it with a histogram showing the same distribution:\n",
    "\n",
    "<img width=\"800\" src=\"https://drive.google.com/uc?export=view&id=1ubAeLqYPthw2jJpN_ApMc30qM1BjSXpN\">\n",
    "\n",
    "In a nutshell, the graph on the right shows the range of the distribution and its three quartiles (the 25th, the 50th and the 75th percentile). This allows us to get a good visual intuition about the proportion of values that fall under a certain quartile, between any two quartiles, or between a quartile and the minimum or the maximum value in the distribution:\n",
    "\n",
    "\n",
    "<img width=\"800\" src=\"https://drive.google.com/uc?export=view&id=1Y0H3DLjHVbZOZSzOq8htlinzCxEAQW_R\">\n",
    "\n",
    "\n",
    "The two lines extending upwards and downwards out of the box in the middle look a bit like two whiskers, reason for which we call this plot a **box-and-whisker** plot, or, more convenient, just **box plot.**\n",
    "\n",
    "We can generate the five box plots above using the [sns.boxplot()](https://seaborn.pydata.org/generated/seaborn.boxplot.html) function. On the x-axis we want the **Pos** variable, and on the y-axis the **Height** variable.\n",
    "\n"
   ]
  },
  {
   "cell_type": "code",
   "execution_count": 21,
   "metadata": {
    "colab": {},
    "colab_type": "code",
    "id": "06YEoa0W8W42"
   },
   "outputs": [
    {
     "data": {
      "text/plain": [
       "<matplotlib.axes._subplots.AxesSubplot at 0x7fe43df10f98>"
      ]
     },
     "execution_count": 21,
     "metadata": {},
     "output_type": "execute_result"
    },
    {
     "data": {
      "image/png": "[encoded data removed]",
      "text/plain": [
       "<Figure size 432x288 with 1 Axes>"
      ]
     },
     "metadata": {},
     "output_type": "display_data"
    }
   ],
   "source": [
    "sns.boxplot(x = 'Pos', y = 'Height', data = wnba)"
   ]
  },
  {
   "cell_type": "markdown",
   "metadata": {
    "colab_type": "text",
    "id": "ODb44RO8-Qc9"
   },
   "source": [
    "You might wonder what is the meaning of those few dots for the box plots of centers and guards/forwards (G/F), and **why some box plots seem to lack some of the quartiles**. We'll discuss this in the next screen. Now, let's practice generating box plots.\n",
    "\n",
    "**Exercise**\n",
    "\n",
    "<img width=\"100\" src=\"https://drive.google.com/uc?export=view&id=1E8tR7B9YYUXsU_rddJAyq0FrM0MSelxZ\">\n",
    "\n",
    "- Using **sns.boxplot()**, generate a series of box plots to examine the distribution of player weight as a function of player position. Place the **Pos** variable on the x-axis and the **Weight** variable on the y-axis."
   ]
  },
  {
   "cell_type": "code",
   "execution_count": 22,
   "metadata": {
    "colab": {},
    "colab_type": "code",
    "id": "CV_jILuT-hXh"
   },
   "outputs": [
    {
     "data": {
      "text/plain": [
       "<matplotlib.axes._subplots.AxesSubplot at 0x7fe43df07a58>"
      ]
     },
     "execution_count": 22,
     "metadata": {},
     "output_type": "execute_result"
    },
    {
     "data": {
      "image/png": "[encoded data removed]",
      "text/plain": [
       "<Figure size 432x288 with 1 Axes>"
      ]
     },
     "metadata": {},
     "output_type": "display_data"
    }
   ],
   "source": [
    "sns.boxplot(x = 'Pos', y = 'Weight', data = wnba)"
   ]
  },
  {
   "cell_type": "code",
   "execution_count": 23,
   "metadata": {},
   "outputs": [
    {
     "data": {
      "text/plain": [
       "<matplotlib.axes._subplots.AxesSubplot at 0x7fe43de28160>"
      ]
     },
     "execution_count": 23,
     "metadata": {},
     "output_type": "execute_result"
    },
    {
     "data": {
      "image/png": "[encoded data removed]",
      "text/plain": [
       "<Figure size 432x288 with 1 Axes>"
      ]
     },
     "metadata": {},
     "output_type": "display_data"
    }
   ],
   "source": [
    "sns.boxplot(x = 'Height', y = 'Weight', data = wnba)"
   ]
  },
  {
   "cell_type": "markdown",
   "metadata": {
    "colab_type": "text",
    "id": "pCXUOoFP-7me"
   },
   "source": [
    "## 1.9 Outliers"
   ]
  },
  {
   "cell_type": "markdown",
   "metadata": {
    "colab_type": "text",
    "id": "TgQBx0Hn_F7e"
   },
   "source": [
    "The few dots we see for the box plots of centers and guards/forwards (G/F) represent values in the distribution that are much larger or much lower than the rest of the values. A value that is much lower or much larger than the rest of the values in a distribution is called an **outlier.**\n",
    "\n",
    "<img width=\"400\" src=\"https://drive.google.com/uc?export=view&id=1WoZ6rZWu8bIFhJaPwQ5mDvoo2pU0dzLa\">\n",
    "\n",
    "\n",
    "A value is an **outlier** if:\n",
    "\n",
    "- It's larger than the upper quartile by 1.5 times the difference between the upper quartile and the lower quartile (the difference is also called the interquartile range).\n",
    "- It's lower than the lower quartile by 1.5 times the difference between the upper quartile and the lower quartile (the difference is also called the interquartile range).\n",
    "\n",
    "<img width=\"600\" src=\"https://drive.google.com/uc?export=view&id=1NminuWMq8htgOFD5TeAyiLFhXdCtHQjJ\">\n",
    "\n",
    "Probably this is not yet crystal clear, so let's walk through an example. Let's consider the box plot for centers:\n",
    "\n",
    "<img width=\"800\" src=\"https://drive.google.com/uc?export=view&id=1krahzq8cce3FQmzXVekQM0UumStTIq8l\">\n",
    "\n",
    "\n",
    "From the output of **wnba[wnba['Pos'] == 'C']['Height'].describe()**, we can see that the upper quartile (the 75th percentile) is 196 and the lower quartile (the 25th percentile) is 193. Hence, the interquartile range is 3.\n",
    "\n",
    "\n",
    "$$\n",
    "\\text{interquartile range} = \\text{upper quartile} - \\text{lower quartil}\n",
    "$$\n",
    "\n",
    "\n",
    "Every value that is $3 \\times 1.5$  bigger than the upper quartile is considered an outlier. $3 \\times 1.5 = 4.5$, and the upper quartile is 196. This means that any value greater than $196 + 4.5 = 200.5$  is considered an outlier.\n",
    "\n",
    "Similarly, every value that is  $3 \\times 1.5$ lower that the lower quartile is an outlier. $3 \\times 1.5 = 4.5$, and the upper quartile is 193. This means that any value less than $193 - 4.5 = 188.5$ is an outlier.\n",
    "\n",
    "\n",
    "<img width=\"500\" src=\"https://drive.google.com/uc?export=view&id=18HtBhxsTPDtuhq4W0YoXfCs8Rx1gz-yQ\">\n",
    "\n",
    "\n",
    "This formal definition of an outlier is arbitrary, and it could be changed if we wanted to. For any given distribution, the upper and lower quartiles, and the interquartile range remain constant. However, the 1.5 factor can vary. If the factor is increased, then the range outside which values are considered outliers increases as well. If the factor is decreased, the range outside which values are considered outlier decreases as well.\n",
    "\n",
    "When we generate boxplots, we can increase or decrease this factor by using the **whis** parameter of the **sns.boxplot()** function. This is the same height distribution for centers without any outliers:\n",
    "\n",
    "\n"
   ]
  },
  {
   "cell_type": "code",
   "execution_count": 24,
   "metadata": {
    "colab": {},
    "colab_type": "code",
    "id": "GEU9c7vH_LUw"
   },
   "outputs": [
    {
     "data": {
      "text/plain": [
       "<matplotlib.axes._subplots.AxesSubplot at 0x7fe43ddcc1d0>"
      ]
     },
     "execution_count": 24,
     "metadata": {},
     "output_type": "execute_result"
    },
    {
     "data": {
      "image/png": "[encoded data removed]",
      "text/plain": [
       "<Figure size 432x288 with 1 Axes>"
      ]
     },
     "metadata": {},
     "output_type": "display_data"
    }
   ],
   "source": [
    "sns.boxplot(wnba[wnba['Pos'] == 'C']['Height'], whis = 4,\n",
    "              orient = 'vertical', width = .15,)"
   ]
  },
  {
   "cell_type": "markdown",
   "metadata": {
    "colab_type": "text",
    "id": "M0g8HA1yDpos"
   },
   "source": [
    "**Exercise**\n",
    "\n",
    "<img width=\"100\" src=\"https://drive.google.com/uc?export=view&id=1E8tR7B9YYUXsU_rddJAyq0FrM0MSelxZ\">\n",
    "\n",
    "- Consider the quartiles of the **Games Played** variable:\n",
    "\n",
    "```python\n",
    ">> wnba['Games Played'].describe()\n",
    "count    143.000000\n",
    "mean      24.356643\n",
    "std        7.104259\n",
    "min        2.000000\n",
    "25%       22.000000\n",
    "50%       27.000000\n",
    "75%       29.000000\n",
    "max       32.000000\n",
    "Name: Games Played, dtype: float64\n",
    "```\n",
    "\n",
    "- Find the interquartile range, and assign the result to a variable named **iqr**.\n",
    "- Using a factor of 1.5, calculate the lower and upper bound outside which values are considered outliers.\n",
    "    - Assign the value of the lower bound to a variable named **lower_bound**.\n",
    "    - Assign the upper bound to a variable named **upper_bound.**\n",
    "- Find how many values in the distribution are outliers.\n",
    "    - Assign the number of outliers below the lower bound to a variable named **outliers_low.**\n",
    "    - Assign the number of outliers below the upper bound to a variable named **outliers_high.**\n",
    "- Plot a boxplot to check whether your answers are sensible.\n",
    "\n",
    "\n"
   ]
  },
  {
   "cell_type": "code",
   "execution_count": 35,
   "metadata": {
    "colab": {},
    "colab_type": "code",
    "id": "gzs1kjoLE0kX"
   },
   "outputs": [],
   "source": [
    "iqr = wnba['Games Played'].describe()[6] - wnba['Games Played'].describe()[4]\n",
    "factor = 1.5\n",
    "lower_bound = wnba['Games Played'].describe()[6] - (iqr*factor)\n",
    "upper_bound = wnba['Games Played'].describe()[4] + (iqr*factor)"
   ]
  },
  {
   "cell_type": "code",
   "execution_count": 36,
   "metadata": {},
   "outputs": [],
   "source": [
    "outliers_low = wnba[wnba['Games Played'] <= lower_bound].shape[0]\n",
    "outliers_high = wnba[wnba['Games Played'] >= upper_bound].shape[0]"
   ]
  },
  {
   "cell_type": "code",
   "execution_count": 39,
   "metadata": {},
   "outputs": [
    {
     "data": {
      "text/plain": [
       "26"
      ]
     },
     "metadata": {},
     "output_type": "display_data"
    },
    {
     "data": {
      "text/plain": [
       "0"
      ]
     },
     "metadata": {},
     "output_type": "display_data"
    }
   ],
   "source": [
    "display(outliers_low, outliers_high)"
   ]
  },
  {
   "cell_type": "code",
   "execution_count": 38,
   "metadata": {},
   "outputs": [
    {
     "data": {
      "text/plain": [
       "<matplotlib.axes._subplots.AxesSubplot at 0x7fe43dbcbf28>"
      ]
     },
     "execution_count": 38,
     "metadata": {},
     "output_type": "execute_result"
    },
    {
     "data": {
      "image/png": "[encoded data removed]",
      "text/plain": [
       "<Figure size 432x288 with 1 Axes>"
      ]
     },
     "metadata": {
      "needs_background": "light"
     },
     "output_type": "display_data"
    }
   ],
   "source": [
    "%matplotlib inline\n",
    "sns.boxplot(y = 'Games Played', data = wnba)"
   ]
  },
  {
   "cell_type": "markdown",
   "metadata": {
    "colab_type": "text",
    "id": "GfyIiVn0F1A8"
   },
   "source": [
    "## 1.10 Next Steps"
   ]
  },
  {
   "cell_type": "markdown",
   "metadata": {
    "colab_type": "text",
    "id": "MzxEpz9YGAq-"
   },
   "source": [
    "In this mission, we learned how to compare frequency distributions using graphs. Grouped bar plots are ideal to compare the frequency distributions of nominal or ordinal variables. For variables measured on an interval or ratio scale, we can use step-type histograms, kernel density plots, or, for better readability, strip plots or box plots.\n",
    "\n",
    "<img width=\"400\" src=\"https://drive.google.com/uc?export=view&id=1J7n1gvx8sQpJ-WNZF5do8VPQk_vf2ORb\">\n",
    "\n",
    "\n",
    "We've come a long way in this course from learning about sampling to visualizing multiple frequency distributions. We've made great progress so far and completed the workflow we set out to do in the first mission.\n",
    "\n",
    "\n",
    "<img width=\"600\" src=\"https://drive.google.com/uc?export=view&id=1XQ_nPiVB1pMBaS0ikBE6IPeifOYbDG11\">\n"
   ]
  }
 ],
 "metadata": {
  "colab": {
   "collapsed_sections": [],
   "name": "Lesson 22.ipynb",
   "provenance": [],
   "version": "0.3.2"
  },
  "kernelspec": {
   "display_name": "Python 3",
   "language": "python",
   "name": "python3"
  },
  "language_info": {
   "codemirror_mode": {
    "name": "ipython",
    "version": 3
   },
   "file_extension": ".py",
   "mimetype": "text/x-python",
   "name": "python",
   "nbconvert_exporter": "python",
   "pygments_lexer": "ipython3",
   "version": "3.6.4"
  }
 },
 "nbformat": 4,
 "nbformat_minor": 1
}
